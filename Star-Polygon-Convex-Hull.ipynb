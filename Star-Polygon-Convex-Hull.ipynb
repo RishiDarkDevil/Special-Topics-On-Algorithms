{
 "cells": [
  {
   "cell_type": "code",
   "execution_count": 1,
   "id": "c4c8e5da",
   "metadata": {},
   "outputs": [],
   "source": [
    "def enter_points():\n",
    "  '''\n",
    "  Take input of the points in counter-clockwise order and returns it in a list\n",
    "  '''\n",
    "  # stores the points\n",
    "  points = list()\n",
    "\n",
    "  # input number of points\n",
    "  n = int(input('Enter number of points: '))\n",
    "\n",
    "  # input points\n",
    "  print('Points should be in counter-clockwise order.')\n",
    "  for i in range(n):\n",
    "    point = tuple([float(x) for x in input(f'Enter point {i+1}: ').split(' ')])\n",
    "    points.append(point)\n",
    "  \n",
    "  return points"
   ]
  },
  {
   "cell_type": "code",
   "execution_count": 2,
   "id": "87f599e2",
   "metadata": {},
   "outputs": [],
   "source": [
    "def turn(p0, p1, p2):\n",
    "  '''\n",
    "  Returns if p0-p1-p2 is a left turn or right turn or collinear\n",
    "  args:\n",
    "    - p0, p1, p2: tuple of the form (x,y)\n",
    "  '''\n",
    "  \n",
    "  det = (p1[0] - p0[0]) * (p2[1] - p0[1]) - (p2[0] - p0[0]) * (p1[1] - p0[1])\n",
    "  \n",
    "  if det > 0:\n",
    "    return 'left'\n",
    "  elif det == 0:\n",
    "    return 'collinear'\n",
    "  else:\n",
    "    return 'right'"
   ]
  },
  {
   "cell_type": "code",
   "execution_count": 19,
   "id": "3d45e489",
   "metadata": {},
   "outputs": [],
   "source": [
    "def reorder_points(points):\n",
    "  '''\n",
    "  Reorders points so that the points start from the lowest y value points (leftmost if y value clash)\n",
    "  '''\n",
    "  start_point_idx = 0\n",
    "  for i in range(len(points)):\n",
    "    if points[i][1] < points[start_point_idx][1]:\n",
    "      start_point_idx = i\n",
    "    elif points[i][1] == points[start_point_idx][1]:\n",
    "      if points[i][0] < points[start_point_idx][0]:\n",
    "        start_point_idx = i\n",
    "    else:\n",
    "      continue\n",
    "  \n",
    "  reordered = points[start_point_idx:] if isinstance(points[start_point_idx:], list) else [points[start_point_idx:]]\n",
    "  reordered += points[:start_point_idx] if isinstance(points[:start_point_idx], list) else [points[:start_point_idx]]\n",
    "  reordered += [points[start_point_idx]]\n",
    "  \n",
    "  return reordered"
   ]
  },
  {
   "cell_type": "code",
   "execution_count": 20,
   "id": "785a869e",
   "metadata": {},
   "outputs": [],
   "source": [
    "def find_convex_hull(points):\n",
    "  '''\n",
    "  Finds and returns the convex hull using Graham Scan in a list of counter-clockwise points\n",
    "  '''\n",
    "  \n",
    "  # if len(points) < 3: # since, we already assume that we will get star 'polygon'\n",
    "  #   return 'No convex hull exists for less than 3 points.'\n",
    "  \n",
    "  # initialization of the convex hull (ch) stack\n",
    "  ch = list()\n",
    "  \n",
    "  # reorders points\n",
    "  points = reorder_points(points)\n",
    "  \n",
    "  # Add two initial points in the stack\n",
    "  ch.extend(points[:2])\n",
    "  \n",
    "  # computes the convex hull\n",
    "  for i in range(2, len(points)):\n",
    "    \n",
    "    print('stack:', ch)\n",
    "    print('incoming point:', points[i])\n",
    "    \n",
    "    while len(ch) >= 2 and turn(ch[-2], ch[-1], points[i]) != 'left':\n",
    "      ch.pop(-1)\n",
    "    ch.append(points[i])\n",
    "    \n",
    "  return ch[:-1]"
   ]
  },
  {
   "cell_type": "code",
   "execution_count": 21,
   "id": "12ae09f8",
   "metadata": {},
   "outputs": [
    {
     "name": "stdout",
     "output_type": "stream",
     "text": [
      "Enter number of points: 9\n",
      "Points should be in counter-clockwise order.\n",
      "Enter point 1: 1 0\n",
      "Enter point 2: 0.3 0.3\n",
      "Enter point 3: 0 1\n",
      "Enter point 4: -0.3 0.3\n",
      "Enter point 5: -1 0\n",
      "Enter point 6: -0.3 -0.3\n",
      "Enter point 7: 0 -1\n",
      "Enter point 8: 0.3 -0.3\n",
      "Enter point 9: 0.3 -0.1\n",
      "stack: [(0.0, -1.0), (0.3, -0.3)]\n",
      "incoming point: (0.3, -0.1)\n",
      "stack: [(0.0, -1.0), (0.3, -0.3), (0.3, -0.1)]\n",
      "incoming point: (1.0, 0.0)\n",
      "stack: [(0.0, -1.0), (1.0, 0.0)]\n",
      "incoming point: (0.3, 0.3)\n",
      "stack: [(0.0, -1.0), (1.0, 0.0), (0.3, 0.3)]\n",
      "incoming point: (0.0, 1.0)\n",
      "stack: [(0.0, -1.0), (1.0, 0.0), (0.0, 1.0)]\n",
      "incoming point: (-0.3, 0.3)\n",
      "stack: [(0.0, -1.0), (1.0, 0.0), (0.0, 1.0), (-0.3, 0.3)]\n",
      "incoming point: (-1.0, 0.0)\n",
      "stack: [(0.0, -1.0), (1.0, 0.0), (0.0, 1.0), (-1.0, 0.0)]\n",
      "incoming point: (-0.3, -0.3)\n",
      "stack: [(0.0, -1.0), (1.0, 0.0), (0.0, 1.0), (-1.0, 0.0), (-0.3, -0.3)]\n",
      "incoming point: (0.0, -1.0)\n",
      "Convex Hull:\n",
      "[(0.0, -1.0), (1.0, 0.0), (0.0, 1.0), (-1.0, 0.0), (0.0, -1.0)]\n"
     ]
    }
   ],
   "source": [
    "# input points\n",
    "points = enter_points()\n",
    "\n",
    "# get convex hull\n",
    "convex_hull = find_convex_hull(points)\n",
    "\n",
    "print('Convex Hull:')\n",
    "print(convex_hull)"
   ]
  },
  {
   "cell_type": "code",
   "execution_count": null,
   "id": "954012b0",
   "metadata": {},
   "outputs": [],
   "source": [
    "1 0\n",
    "0.3 0.3\n",
    "0 1\n",
    "-0.3 0.3\n",
    "-1 0\n",
    "-0.3 -0.3\n",
    "0 -1\n",
    "0.3 -0.3\n",
    "0.3 -0.1"
   ]
  }
 ],
 "metadata": {
  "kernelspec": {
   "display_name": "Python 3 (ipykernel)",
   "language": "python",
   "name": "python3"
  },
  "language_info": {
   "codemirror_mode": {
    "name": "ipython",
    "version": 3
   },
   "file_extension": ".py",
   "mimetype": "text/x-python",
   "name": "python",
   "nbconvert_exporter": "python",
   "pygments_lexer": "ipython3",
   "version": "3.8.16"
  }
 },
 "nbformat": 4,
 "nbformat_minor": 5
}
